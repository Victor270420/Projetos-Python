{
  "nbformat": 4,
  "nbformat_minor": 0,
  "metadata": {
    "colab": {
      "provenance": [],
      "authorship_tag": "ABX9TyN1Tsj/84EeHNSx2cr2aJJ8",
      "include_colab_link": true
    },
    "kernelspec": {
      "name": "python3",
      "display_name": "Python 3"
    },
    "language_info": {
      "name": "python"
    }
  },
  "cells": [
    {
      "cell_type": "markdown",
      "metadata": {
        "id": "view-in-github",
        "colab_type": "text"
      },
      "source": [
        "<a href=\"https://colab.research.google.com/github/Victor270420/Projetos-Python/blob/main/Victor_curso_PY.ipynb\" target=\"_parent\"><img src=\"https://colab.research.google.com/assets/colab-badge.svg\" alt=\"Open In Colab\"/></a>"
      ]
    },
    {
      "cell_type": "markdown",
      "source": [
        "\n",
        "\n",
        "---\n",
        "\n",
        "\n",
        "# **primeiro codigo**\n",
        "\n",
        "\n",
        "---\n",
        "\n"
      ],
      "metadata": {
        "id": "LK9Gs31HMYY9"
      }
    },
    {
      "cell_type": "code",
      "source": [
        "print(\"Olá mundo!\")#apenas texro\n",
        "print(7+7)#duas str\n",
        "print(\"7\"+\"7\")#dois texots somados\n",
        "print(\"Olá Mundo\",7+7)"
      ],
      "metadata": {
        "colab": {
          "base_uri": "https://localhost:8080/"
        },
        "id": "C3LWZ0IKLGqn",
        "outputId": "a8aea6d3-c00f-4411-e05a-02b39dcf1c4b"
      },
      "execution_count": null,
      "outputs": [
        {
          "output_type": "stream",
          "name": "stdout",
          "text": [
            "Olá mundo!\n",
            "14\n",
            "77\n",
            "Olá Mundo 14\n"
          ]
        }
      ]
    },
    {
      "cell_type": "markdown",
      "source": [
        "DESÁFIO\n",
        "\n",
        "(Número 01)"
      ],
      "metadata": {
        "id": "W9Wdkrygd29_"
      }
    },
    {
      "cell_type": "code",
      "source": [
        "print('Digite seu nome:')\n",
        "nome = input()\n",
        "print(f'{nome} bem-vindo!')"
      ],
      "metadata": {
        "colab": {
          "base_uri": "https://localhost:8080/"
        },
        "id": "_SIYCKQ_d2mX",
        "outputId": "9fb2b870-591d-40be-be1e-3e3c6f8a2d97"
      },
      "execution_count": null,
      "outputs": [
        {
          "output_type": "stream",
          "name": "stdout",
          "text": [
            "Digite seu nome:\n",
            "victor\n",
            "victor bem-vindo!\n"
          ]
        }
      ]
    },
    {
      "cell_type": "markdown",
      "source": [
        "DESÁFIO\n",
        "\n",
        "(Número 02)"
      ],
      "metadata": {
        "id": "_mmGt8xjekxu"
      }
    },
    {
      "cell_type": "code",
      "source": [
        "print(f'Digite sua data de nacimento')\n",
        "print(f'Digite o dia')\n",
        "dia = int(input())\n",
        "print(f'Digite o mes')\n",
        "mes = input()\n",
        "print(f'Digite o ano')\n",
        "ano = int(input())\n",
        "print(f'Você nasceu em {dia} de {mes} de {ano}')"
      ],
      "metadata": {
        "id": "ndhVRgWlekg-"
      },
      "execution_count": null,
      "outputs": []
    },
    {
      "cell_type": "markdown",
      "source": [
        "DESÁFIO\n",
        "\n",
        "(Número 03)"
      ],
      "metadata": {
        "id": "xmG3wtOBjMEt"
      }
    },
    {
      "cell_type": "code",
      "source": [
        "#print('Olá mundo')\n",
        "#print( 7 + 4 )\n",
        "#print('7'+'4')\n",
        "#print('7','4')\n",
        "#print('Ola múndo', 31)\n",
        "#nome = 'Ricardo'\n",
        "idade = 38\n",
        "peso = 89\n",
        "print('ola',nome,'.Sua idade é ',idade,' e seu peso é ',peso,'kg')\n",
        "nome = 'Ricardo'\n",
        "idade = 38\n",
        "peso = 89\n",
        "print(f'Nome:{nome}\\nidade:{idade}\\npeso:{peso}kg')"
      ],
      "metadata": {
        "id": "oohPwXjmjL3F"
      },
      "execution_count": null,
      "outputs": []
    },
    {
      "cell_type": "code",
      "source": [
        "Número 04.: Faça um programa que lei no teclado um número inteiro e\n",
        "mostre na tela o seu antecessor e seu sucessor."
      ],
      "metadata": {
        "id": "885npWCk2335"
      },
      "execution_count": null,
      "outputs": []
    },
    {
      "cell_type": "code",
      "source": [
        "numero = int(input('Digite um número para saber seu sucesor e seu antecesor:'))\n",
        "numero_ant = numero - 1\n",
        "numero_suc = numero + 1\n",
        "print(f'O seu número é {numero} seu antecesor é {numero_suc} e seu sucesor é {numero_ant}')"
      ],
      "metadata": {
        "id": "19R-OvcA2-VY"
      },
      "execution_count": null,
      "outputs": []
    },
    {
      "cell_type": "markdown",
      "source": [
        "Número 05.: Crie um algoritmo que leia um número inteiro e mostre o\n",
        "seu dobro, seu triplo e sua raiz quadrada."
      ],
      "metadata": {
        "id": "jCpyh3c73Esa"
      }
    },
    {
      "cell_type": "code",
      "source": [
        "#leia um número inteiro e mostre o seu dobro, seu triplo e sua raiz quadrada.\n",
        "\n",
        "#Entrada de dados\n",
        "numero = int(input('Digite um numero inteiro para mostre o seu dobro, seu triplo e sua raiz quadrada:'))\n",
        "\n",
        "#Calculo\n",
        "numero_dobro = numero * 2\n",
        "numero_triplo = numero * 3\n",
        "numero_raiz = numero ** (1/2)\n",
        "\n",
        "#Saida de dados\n",
        "print(f'O dobro do número é {numero_dobro} o triplo é {numero_triplo} raiz quadrada é {numero_raiz:.2f}')"
      ],
      "metadata": {
        "id": "P4uOdUeV3Hyg"
      },
      "execution_count": null,
      "outputs": []
    },
    {
      "cell_type": "markdown",
      "source": [
        "Número 06.: Desenvolva um programa que leia duas notas de um aluno,\n",
        "calcule a média e mostre na tela."
      ],
      "metadata": {
        "id": "kcbl0Pdt3SIH"
      }
    },
    {
      "cell_type": "code",
      "source": [
        "#Média escolar com duas notas\n",
        "\n",
        "#Entrada de dados\n",
        "nota1 = float(input('''Este programa serve para calcular a média do aluno\n",
        "Digite sua primeira nota:'''))\n",
        "nota2 = float(input('Digite a segunda nota:'))\n",
        "\n",
        "#Calculo da média\n",
        "media = (nota1+nota2)/2\n",
        "\n",
        "#Saida de dados\n",
        "print(f'Sua média é {media:.2f}')"
      ],
      "metadata": {
        "id": "P_KHQ1053V0_"
      },
      "execution_count": null,
      "outputs": []
    },
    {
      "cell_type": "markdown",
      "source": [
        "Número 07.: Crie um programa que leia um valor em metro e mostre ele\n",
        "convertido em centímetros e milímetros."
      ],
      "metadata": {
        "id": "gaxWXMAg3Yp3"
      }
    },
    {
      "cell_type": "code",
      "source": [
        "#Programa que comverte metros em centimetros e milímetros.\n",
        "\n",
        "#Entrada de dados\n",
        "metro = float(input('Para saber a converção de metros para centimetros e milímetros.\\nDigite quantos metros:'))\n",
        "\n",
        "#Calcolo da converção\n",
        "centimetros = metro * 100\n",
        "milímetros = centimetros * 10\n",
        "\n",
        "#Saida de dados\n",
        "print(f'''A converção ficou:\n",
        "Metros = {metro:.2f}\n",
        "Centimetros = {centimetros:.2f}\n",
        "milímetros = {milímetros:.2f}''')"
      ],
      "metadata": {
        "id": "toQv8g5u350O"
      },
      "execution_count": null,
      "outputs": []
    },
    {
      "cell_type": "markdown",
      "source": [
        "Número:8"
      ],
      "metadata": {
        "id": "_-SmArGY3bAX"
      }
    },
    {
      "cell_type": "code",
      "source": [
        "#Tabuada de 0 a 10\n",
        "\n",
        "#Entrada de dados\n",
        "\n",
        "num = int(input('Digite um número que direi a tabuada del de 0 a 10:'))\n",
        "\n",
        "#Calculo\n",
        "num1 = num * 0\n",
        "num2 = num * 1\n",
        "num3 = num * 2\n",
        "num4 = num * 3\n",
        "num5 = num * 4\n",
        "num6 = num * 5\n",
        "num7 = num * 6\n",
        "num8 = num * 7\n",
        "num9 = num * 8\n",
        "num10 = num * 9\n",
        "num11 = num * 10\n",
        "\n",
        "#Saida de dados\n",
        "print(f'''Tabuada do {num}\n",
        "{num} * 0 = {num1}\n",
        "{num} * 1 = {num2}\n",
        "{num} * 2 = {num3}\n",
        "{num} * 3 = {num4}\n",
        "{num} * 4 = {num5}\n",
        "{num} * 5 = {num6}\n",
        "{num} * 6 = {num7}\n",
        "{num} * 7 = {num8}\n",
        "{num} * 8 = {num9}\n",
        "{num} * 9 = {num10}\n",
        "{num} * 10 = {num11}''')"
      ],
      "metadata": {
        "id": "thSQrGhi38tm"
      },
      "execution_count": null,
      "outputs": []
    },
    {
      "cell_type": "markdown",
      "source": [
        "Número 9"
      ],
      "metadata": {
        "id": "3L5BCmjt3ijW"
      }
    },
    {
      "cell_type": "code",
      "source": [
        "#valor dolar em 31/08/2024\n",
        "real = float(input('Digite o valor do real para saber o valor do dolar\\nDigite o valor do real:'))\n",
        "dolar = real / 5.61\n",
        "print(f'''Valores das moedas:\n",
        "real = {real:.2f}\n",
        "dolar = {dolar:.2f}''')"
      ],
      "metadata": {
        "id": "EPgpW0PB3_Ze"
      },
      "execution_count": null,
      "outputs": []
    },
    {
      "cell_type": "markdown",
      "source": [
        "Número 10"
      ],
      "metadata": {
        "id": "fsPj3O_C3kNm"
      }
    },
    {
      "cell_type": "code",
      "source": [
        "#Conversor de m2 para litos de tinta\n",
        "\n",
        "#Entrada de dados\n",
        "lagura = float(input('Digite a largura:'))\n",
        "altura = float(input('Digite a altura:'))\n",
        "\n",
        "#Calcolo\n",
        "area = lagura * altura\n",
        "consumo = area / 2\n",
        "\n",
        "#Saida de dados\n",
        "print(f'Seu consumo é de {consumo::.2}')"
      ],
      "metadata": {
        "id": "2JQ1iiUO4DmF"
      },
      "execution_count": null,
      "outputs": []
    },
    {
      "cell_type": "markdown",
      "source": [
        "Número 11"
      ],
      "metadata": {
        "id": "V8ixUEEr3mMv"
      }
    },
    {
      "cell_type": "code",
      "source": [
        "#Valor produtos\n",
        "\n",
        "#Entrada de dados\n",
        "valor = float(input('Para saber o desconto\\nDigite o valor do produto:'))\n",
        "\n",
        "#Calcolo\n",
        "v_dc = (valor * 0.05)\n",
        "v_final = valor - v_dc\n",
        "\n",
        "#Saida de dados\n",
        "print(f'O desconto foi de 5% e o valor economizado foi de {v_dc} e o valor final ficou {v_final}')"
      ],
      "metadata": {
        "id": "NMkZu6lz4IN2"
      },
      "execution_count": null,
      "outputs": []
    },
    {
      "cell_type": "markdown",
      "source": [
        "Número 12"
      ],
      "metadata": {
        "id": "PcA5uxns3xF-"
      }
    },
    {
      "cell_type": "code",
      "source": [
        "#Programa para calcúlo de dissidio\n",
        "\n",
        "#Entrada de dados\n",
        "nome = (input('Digite seu nome:'))\n",
        "salario = (float(input('Para saber seu reajuste\\nDigite o seu salário:')))\n",
        "\n",
        "#Calcolo\n",
        "s_a_mais = salario * 0.15\n",
        "s_reajuste = salario + s_a_mais\n",
        "\n",
        "#Saida de dados\n",
        "print(f'{nome} seu salário foi reajustado você está ganhando {s_a_mais}R$ a mais e seu salario ficou em {s_reajuste}R$')"
      ],
      "metadata": {
        "colab": {
          "base_uri": "https://localhost:8080/"
        },
        "id": "p69nmrTH3wuW",
        "outputId": "e7d9546a-f6fe-4593-adc1-1b61ece2d948"
      },
      "execution_count": null,
      "outputs": [
        {
          "output_type": "stream",
          "name": "stdout",
          "text": [
            "Para saber seu reajuste\n",
            "Digite o seu salário:3000\n",
            "Para saber seu reajuste\n",
            "Digite o seu salário:9000\n",
            "3000 seu salário foi reajustado você está ganhando 1350.0R$ a mais e seu salario ficou em 10350.0R$\n"
          ]
        }
      ]
    },
    {
      "cell_type": "markdown",
      "source": [
        "\n",
        "\n",
        "---\n",
        "\n",
        "# Variaveis\n",
        "\n",
        "---\n",
        "\n"
      ],
      "metadata": {
        "id": "R0uDGjpJ4KsY"
      }
    },
    {
      "cell_type": "markdown",
      "source": [
        "Exercício 1"
      ],
      "metadata": {
        "id": "yHjSybOFtG4q"
      }
    },
    {
      "cell_type": "code",
      "source": [],
      "metadata": {
        "id": "RL_CT1wLtJZJ"
      },
      "execution_count": null,
      "outputs": []
    },
    {
      "cell_type": "markdown",
      "source": [
        "Exercício 2"
      ],
      "metadata": {
        "id": "Xs23NrrE4WoV"
      }
    },
    {
      "cell_type": "code",
      "source": [
        "#Desafio 1 (if,elif,else) Para saber qual número é maior\n",
        "\n",
        "#Entrada de dados\n",
        "num1 = float(input('Digite o primeiro número:'))\n",
        "num2 = float(input('Digite o segundo número:'))\n",
        "\n",
        "#Variavel\n",
        "if num1 > num2:\n",
        "    print(f'O{num1} é maior que o  número {num2}')\n",
        "elif num1 < num2:\n",
        "    print(f'O {num2} é maior que o  número {num1}')\n"
      ],
      "metadata": {
        "id": "0mFnPrem4pf8",
        "colab": {
          "base_uri": "https://localhost:8080/"
        },
        "outputId": "8dd40f62-07c0-4c85-a439-77600249f513"
      },
      "execution_count": null,
      "outputs": [
        {
          "output_type": "stream",
          "name": "stdout",
          "text": [
            "Digite o primeiro número:45\n",
            "Digite o segundo número:3\n",
            "\u001b[0;30;41mO 45.0 é maior que o  número 3.0\n"
          ]
        }
      ]
    },
    {
      "cell_type": "markdown",
      "source": [
        "Exercício 3"
      ],
      "metadata": {
        "id": "YPqK5APBCV6J"
      }
    },
    {
      "cell_type": "code",
      "source": [
        "#Escreva um programa que pergunte o ano de nascimento de uma pessoa e diga se ele é maior de idade .\n",
        "data = int(input('Informe seu ano de nacimento: '))\n",
        "ano = int(input('Digite o seu ano: '))\n",
        "\n",
        "idade = ano - data\n",
        "\n",
        "if idade >= 18:\n",
        "    print('Você é maior de idade')\n",
        "else:\n",
        "    print('Você é menor de idade')"
      ],
      "metadata": {
        "colab": {
          "base_uri": "https://localhost:8080/"
        },
        "id": "ZjePCqr8R9xk",
        "outputId": "af2bd501-aa6a-4207-da85-9b36f769cf16"
      },
      "execution_count": null,
      "outputs": [
        {
          "output_type": "stream",
          "name": "stdout",
          "text": [
            "Informe seu ano de nacimento: 2007\n",
            "Digite o seu ano: 2024\n",
            "Você é menor de idade\n"
          ]
        }
      ]
    },
    {
      "cell_type": "markdown",
      "source": [
        "Exercício 4"
      ],
      "metadata": {
        "id": "WLaJJJcTCfx6"
      }
    },
    {
      "cell_type": "code",
      "source": [
        "#Desafio 1 (if,elif,else) PAra saber qual número é maior\n",
        "\n",
        "#Entrada de dados\n",
        "num1 = int(input('Digite o primeiro número:'))\n",
        "num2 = int(input('Digite o segundo número:'))\n",
        "\n",
        "#Variavel\n",
        "if num1 > num2:\n",
        "    print(f'O {num1} é maior que o  número {num2}')\n",
        "elif num1 == num2:\n",
        "    print(f'Os números são iguais')\n",
        "elif num1 < num2:\n",
        "    print(f'O {num2} é maior que o  número {num1}')"
      ],
      "metadata": {
        "id": "pXIGfEWdCmEa"
      },
      "execution_count": null,
      "outputs": []
    },
    {
      "cell_type": "markdown",
      "source": [
        "Exercício 5"
      ],
      "metadata": {
        "id": "tRot5BBRLBJC"
      }
    },
    {
      "cell_type": "code",
      "source": [
        "#Escreva um programa em Python que recebe um inteiro e diga se é par ou ímpar.\n",
        "num = int(input('Digite um número: '))\n",
        "if num % 2 == 0:\n",
        "    print(f'O número {num} é par ')\n",
        "elif num % 2 != 0:\n",
        "    print(f'O número {num} é impar')"
      ],
      "metadata": {
        "id": "FQ7x4CdSLA2d"
      },
      "execution_count": null,
      "outputs": []
    },
    {
      "cell_type": "markdown",
      "source": [
        "Exercício 6"
      ],
      "metadata": {
        "id": "SMzu7BHXLDTS"
      }
    },
    {
      "cell_type": "code",
      "source": [
        "#Faça um programa que leia 2 notas de um aluno,\n",
        "# calcule a média e imprima Aprovado,Recuperação ou Reprovado seguindo as instruções abaixo:\n",
        "#Média >=0 e <5 Reprovado\n",
        "#Média >=5 e <8 Recuperação\n",
        "#Média >= 8 e <=10 Aprovado\n",
        "nome = str(input('Digite seu nome: '))\n",
        "\n",
        "nota1 = float(input(f'{nome} para saber se você foi aprovado ou está de recuperação\\nDigite a primeira nota:'))\n",
        "nota2 = float(input('Digite a segunda nota:'))\n",
        "\n",
        "media = (nota1 + nota2) /2\n",
        "if media < 5:\n",
        "    print(f'{nome} você foi reprovado')\n",
        "elif  media < 8:\n",
        "    print(f'{nome} você está de recuperação')\n",
        "elif media <= 10:\n",
        "    print(f'{nome} você foi aprovado')\n",
        "else:\n",
        "    print('Você mentio a média')"
      ],
      "metadata": {
        "id": "CCT8q1mELMFb",
        "colab": {
          "base_uri": "https://localhost:8080/"
        },
        "outputId": "de46f6a3-17e8-4c1c-d2ca-2f952cc4be28"
      },
      "execution_count": null,
      "outputs": [
        {
          "output_type": "stream",
          "name": "stdout",
          "text": [
            "Para saber se você foi aprovado ou está de recuperação\n",
            "Digite a primeira nota:950\n",
            "Digite a segunda nota:4\n",
            "Você mentio a média\n"
          ]
        }
      ]
    },
    {
      "cell_type": "markdown",
      "source": [
        "Exercício 7"
      ],
      "metadata": {
        "id": "Q6H5UwmLNIGP"
      }
    },
    {
      "cell_type": "code",
      "source": [
        "#Desenvolva um programa que recebe do usuário, o placar de\n",
        "\n",
        "#um jogo de futebol (os gols de cada time) e\n",
        "\n",
        "# #informa se o resultado foi um empate, se a vitória foi do primeiro time ou do segundo time.\n",
        "\n",
        "n_1_tim = input('Digite o nome do primeiro time:')\n",
        "n_2_tim = input('Digite o nome do primeiro time:')\n",
        "tim1 = float(input(f'Digite o número de gols do {n_1_tim} time:'))\n",
        "tim2 = float(input(f'Digite o número de gols do {n_2_tim} time:'))\n",
        "\n",
        "#Variavel\n",
        "if tim1 > tim2:\n",
        "    print(f'O {n_1_tim} fez mais gols que o {n_2_tim}')\n",
        "elif tim1 == tim2:\n",
        "    print(f'O jogo deu empate')\n",
        "elif tim1 < tim2:\n",
        "    print(f'O {n_1_tim} fez menos gols que o {n_2_tim}')"
      ],
      "metadata": {
        "id": "pSuZkydVNKc3"
      },
      "execution_count": null,
      "outputs": []
    },
    {
      "cell_type": "markdown",
      "source": [
        "Exercício 8"
      ],
      "metadata": {
        "id": "Q6Fg6Hi_NLbv"
      }
    },
    {
      "cell_type": "code",
      "source": [
        "#Programa para saber a idade do usuario e clacilicar ele em infantil A e B .Juvenil A e B. Aduto\n",
        "\n",
        "#entrada de dados\n",
        "idade = int(input('Digite sua idade: '))\n",
        "\n",
        "#Condicional & Saida de dados\n",
        "if idade < 5:\n",
        "    print('Erro')\n",
        "elif idade >=5 and idade <=7:\n",
        "    print('Infantil A')\n",
        "elif idade <= 11:\n",
        "    print('Infantil B')\n",
        "elif idade <= 13:\n",
        "    print('Juvenil A')\n",
        "elif idade <= 17:\n",
        "    print('Juvenil B')\n",
        "else:\n",
        "    print('Aduto')"
      ],
      "metadata": {
        "id": "kzjBIlTrNOf_"
      },
      "execution_count": null,
      "outputs": []
    },
    {
      "cell_type": "markdown",
      "source": [
        "Desafio condicional"
      ],
      "metadata": {
        "id": "-G-93g2BNsx8"
      }
    },
    {
      "cell_type": "code",
      "source": [
        "#Calcuço IMC e clacificação de acordo com IMC(generico)\n",
        "\n",
        "#Entrada de dados\n",
        "nome = str(input('Digite o nome da pessoa: '))\n",
        "peso = float(input('Digite seu peso: '))\n",
        "altura = float(input('Digite sua altura: '))\n",
        "\n",
        "#Calculo\n",
        "imc = peso/(altura ** 2)\n",
        "\n",
        "#Variavel\n",
        "if imc >=35:\n",
        "    print(f'A {nome} tem obesidade extrema com um IMC de {imc:.2f}')\n",
        "elif imc > 30:\n",
        "    print(f'A {nome} tem obesidade com um IMC de {imc:.2f}')\n",
        "elif imc >= 25:\n",
        "    print(f'A {nome} tem pesso execivo com um IMC de {imc:.2f}')\n",
        "elif imc >= 18.5:\n",
        "    print(f'A {nome} tem pesso normal com um IMC de {imc:.2f}')\n",
        "elif imc < 18.5:\n",
        "    print(f'A {nome} eatá abaixo do peso com um IMC de {imc:.2f}')"
      ],
      "metadata": {
        "id": "uiURNcH-Nznv",
        "colab": {
          "base_uri": "https://localhost:8080/"
        },
        "outputId": "457f3a50-fd2b-4ab6-b132-e22ca180d71b"
      },
      "execution_count": null,
      "outputs": [
        {
          "output_type": "stream",
          "name": "stdout",
          "text": [
            "Digite o nome da pessoa: Victor\n",
            "Digite seu peso: 50\n",
            "Digite sua altura: 1.74\n",
            "A Victor eatá abaixo do peso com um IMC de 16.51\n"
          ]
        }
      ]
    },
    {
      "cell_type": "markdown",
      "source": [
        "Desafio cores:"
      ],
      "metadata": {
        "id": "vYr7BbxuFmS1"
      }
    },
    {
      "cell_type": "code",
      "source": [
        "#Média < 5\n",
        "#Reprovado\n",
        "#Média < 8\n",
        "#Recuperação\n",
        "#Média <= 10\n",
        "#Aprovado\n",
        "\n",
        "#Entrada de dados\n",
        "\n",
        "nome = str(input('Digite seu nome:'))\n",
        "nome_materia = str(input('Digite o nome da materia: '))\n",
        "\n",
        "media_b1 = float(input(f'{nome} digite sua média de {nome_materia} do primeitro bimestre: '))\n",
        "media_b2 = float(input(f'{nome} digite sua média de {nome_materia} do segundo bimestre: '))\n",
        "media_b3 = float(input(f'{nome} digite sua média de {nome_materia} do terceiro bimestre: '))\n",
        "media_b4 = float(input(f'{nome} digite sua média de {nome_materia} do quarto bimestre: '))\n",
        "\n",
        "#Calculo\n",
        "\n",
        "media_ano = (media_b1+media_b2+media_b3+media_b4)/4\n",
        "\n",
        "#Condicional\n",
        "if media_ano < 5:\n",
        "    print(f'\\033[1;31;43mReprovado\\033[m')\n",
        "elif media_ano < 8:\n",
        "    print(f'\\033[1;34mRecuperação\\033[m')\n",
        "elif media_ano <= 10:\n",
        "    print(f'\\033[1;32mAprovado\\033[m')\n",
        "else:\n",
        "    print('Erro')"
      ],
      "metadata": {
        "id": "AVqllk-DFobt",
        "colab": {
          "base_uri": "https://localhost:8080/"
        },
        "outputId": "ef788d75-cbc4-43cd-e6e7-52eb2eaac1d1"
      },
      "execution_count": null,
      "outputs": [
        {
          "output_type": "stream",
          "name": "stdout",
          "text": [
            "Digite seu nome:Victor\n",
            "Digite o nome da materia: Projeto de desenvimento WEB\n",
            "Victor digite sua média de Projeto de desenvimento WEB do primeitro bimestre: 6\n",
            "Victor digite sua média de Projeto de desenvimento WEB do segundo bimestre: 5\n",
            "Victor digite sua média de Projeto de desenvimento WEB do terceiro bimestre: 7\n",
            "Victor digite sua média de Projeto de desenvimento WEB do quarto bimestre: 6\n",
            "\u001b[1;34mRecuperação\u001b[m\n"
          ]
        }
      ]
    },
    {
      "cell_type": "markdown",
      "source": [
        "Estrutura de repetição"
      ],
      "metadata": {
        "id": "8vbvj9A1QpGn"
      }
    },
    {
      "cell_type": "markdown",
      "source": [
        "Exercício 1"
      ],
      "metadata": {
        "id": "qId5mPaEQsF-"
      }
    },
    {
      "cell_type": "code",
      "source": [
        "#Escreve na tela um número de 1 a 50\n",
        "\n",
        "#Loop de 1 a 50\n",
        "for numero in range(1,50+1):\n",
        "  print(f'{numero},',end=' ')"
      ],
      "metadata": {
        "colab": {
          "base_uri": "https://localhost:8080/"
        },
        "id": "Cu6U82lCQxnV",
        "outputId": "4d6eecb3-ceac-4052-d93c-d0d0b0756b88"
      },
      "execution_count": null,
      "outputs": [
        {
          "output_type": "stream",
          "name": "stdout",
          "text": [
            "1, 2, 3, 4, 5, 6, 7, 8, 9, 10, 11, 12, 13, 14, 15, 16, 17, 18, 19, 20, 21, 22, 23, 24, 25, 26, 27, 28, 29, 30, 31, 32, 33, 34, 35, 36, 37, 38, 39, 40, 41, 42, 43, 44, 45, 46, 47, 48, 49, 50, "
          ]
        }
      ]
    },
    {
      "cell_type": "markdown",
      "source": [
        "Exercício 2"
      ],
      "metadata": {
        "id": "ZQ_caZKQRQ7G"
      }
    },
    {
      "cell_type": "code",
      "source": [
        "#Escreve na tela número pares de 1 a 50\n",
        "\n",
        "#Incio do laço 1 até 50\n",
        "for numero in range(1,50+1):\n",
        "  #Verifica se o número é par\n",
        "  if numero%2 == 0:\n",
        "    #Saída de dados\n",
        "    print(f'{numero},',end=' ')\n",
        "#Fim do codigo\n",
        "print('Acabou.')"
      ],
      "metadata": {
        "colab": {
          "base_uri": "https://localhost:8080/"
        },
        "id": "GmIgbb5rRS6i",
        "outputId": "a36e89d7-b2dd-44c5-f4a9-73cb57e4f576"
      },
      "execution_count": null,
      "outputs": [
        {
          "output_type": "stream",
          "name": "stdout",
          "text": [
            "2, 4, 6, 8, 10, 12, 14, 16, 18, 20, 22, 24, 26, 28, 30, 32, 34, 36, 38, 40, 42, 44, 46, 48, 50, Acabou.\n"
          ]
        }
      ]
    },
    {
      "cell_type": "code",
      "source": [
        "#nuermos pares em inpares e somente pares\n",
        "\n",
        "#Entrada de dados\n",
        "numero_start = int(input('Digite um número inicial: '))\n",
        "numero_stop = int(input('Digite um número final: '))\n",
        "\n",
        "print(f'Números pares definido pelo usuario:')\n",
        "for numero in range(numero_start,numero_stop+1):\n",
        "  #Verifica se o número é par\n",
        "  if numero%2 == 0:\n",
        "    #Saída de dados\n",
        "    print(f'{numero},',end=' ')\n",
        "numero_start = int(input('\\nDigite um número inicial: '))\n",
        "numero_stop = int(input('Digite um número final: '))\n",
        "print(f'\\nNúmeros impares definido pelo usuario')\n",
        "for numero in range(numero_start,numero_stop+1):\n",
        "  #Verifica se o número é impar\n",
        "  if numero%2 != 0:\n",
        "    #Saída de dados\n",
        "    print(f'{numero},',end=' ')\n",
        "numero_start = int(input('\\nDigite um número inicial: '))\n",
        "numero_stop = int(input('Digite um número final: '))\n",
        "print(f'\\nNúmeros definido pelo usuario:')\n",
        "for numero in range(numero_start,numero_stop+1):\n",
        "  print(f'{numero},',end=' ')"
      ],
      "metadata": {
        "colab": {
          "base_uri": "https://localhost:8080/"
        },
        "id": "H5t_jBfnwI5U",
        "outputId": "507436dc-fc10-41a0-f26e-ed8ef7c883e0"
      },
      "execution_count": null,
      "outputs": [
        {
          "output_type": "stream",
          "name": "stdout",
          "text": [
            "Digite um número inicial: 1\n",
            "Digite um número final: 50\n",
            "Números pares definido pelo usuario:\n",
            "2, 4, 6, 8, 10, 12, 14, 16, 18, 20, 22, 24, 26, 28, 30, 32, 34, 36, 38, 40, 42, 44, 46, 48, 50, \n",
            "Digite um número inicial: 1\n",
            "Digite um número final: 50\n",
            "\n",
            "Números impares definido pelo usuario\n",
            "1, 3, 5, 7, 9, 11, 13, 15, 17, 19, 21, 23, 25, 27, 29, 31, 33, 35, 37, 39, 41, 43, 45, 47, 49, \n",
            "Digite um número inicial: 1\n",
            "Digite um número final: 50\n",
            "\n",
            "Números definido pelo usuario:\n",
            "1, 2, 3, 4, 5, 6, 7, 8, 9, 10, 11, 12, 13, 14, 15, 16, 17, 18, 19, 20, 21, 22, 23, 24, 25, 26, 27, 28, 29, 30, 31, 32, 33, 34, 35, 36, 37, 38, 39, 40, 41, 42, 43, 44, 45, 46, 47, 48, 49, 50, "
          ]
        }
      ]
    },
    {
      "cell_type": "markdown",
      "source": [
        "Exercício 3"
      ],
      "metadata": {
        "id": "1BA0WO32jJBP"
      }
    },
    {
      "cell_type": "code",
      "source": [
        "#Codigo para saber de 7 pessoas quantas são menores e quantsa são maiores de idade\n",
        "\n",
        "print('Algoritimo para controle de idade')\n",
        "\n",
        "#Declaração (inicialização) de variavel\n",
        "atual = 2024\n",
        "menor = 0\n",
        "maior_idade = 0\n",
        "\n",
        "#Loop de 1 a 7\n",
        "for pessoa in range(1,8):\n",
        "\n",
        "  #Entrada de  dados\n",
        "  nascimento = int(input(f'Em que ano a {pessoa} pessoa naceu: '))\n",
        "  idade = atual - nascimento\n",
        "  #Variavel para saber a quantidade de menores e de maiores\n",
        "  if idade < 18:\n",
        "    #Contagem de menores de idade\n",
        "    menor += 1\n",
        "  else:\n",
        "    #Contagem de maiores de idade\n",
        "    maior_idade +=1\n",
        "if menor > 1:\n",
        "    print(f'{menor} pessoas não atingiram a maior idade')\n",
        "elif menor == 1:\n",
        "    print(f'{menor} pessoa não atingiu a maior idade')\n",
        "else:\n",
        "    print('Todas as pessoas atingiram a maior idade')\n",
        "\n",
        "if maior_idade > 1:\n",
        "    print(f'\\n{maior_idade} pessoas atingiram a maior idade')\n",
        "elif maior_idade == 1:\n",
        "    print(f'\\n{maior_idade} pessoa atingiu a maior idade')\n",
        "else:\n",
        "    print('\\nNenhuma pessoa atingiu a maior idade')\n"
      ],
      "metadata": {
        "colab": {
          "base_uri": "https://localhost:8080/"
        },
        "id": "32Sg83z9jMXm",
        "outputId": "c23a1939-8f01-4965-c3a6-5d8c7980670f"
      },
      "execution_count": null,
      "outputs": [
        {
          "output_type": "stream",
          "name": "stdout",
          "text": [
            "Algoritimo para controle de idade\n",
            "Em que ano a 1 pessoa naceu: 2000\n",
            "Em que ano a 2 pessoa naceu: 2010\n",
            "Em que ano a 3 pessoa naceu: 2010\n",
            "Em que ano a 4 pessoa naceu: 2010\n",
            "Em que ano a 5 pessoa naceu: 2010\n",
            "Em que ano a 6 pessoa naceu: 20000\n",
            "Em que ano a 7 pessoa naceu: 20000\n",
            "6 pessoas não atingiram a maior idade\n",
            "\n",
            "1 pessoa atingiu a maior idade\n"
          ]
        }
      ]
    },
    {
      "cell_type": "markdown",
      "source": [
        "Exercício 4"
      ],
      "metadata": {
        "id": "5h-drJSzjMtU"
      }
    },
    {
      "cell_type": "code",
      "source": [
        "#Tabuada de 0 a 10 do número escolhido pelo usuario\n",
        "\n",
        "#Entrada de dados\n",
        "\n",
        "num = int(input('Digite um número que direi a tabuada do número de 0 a 10: '))\n",
        "num1 = 0\n",
        "numero_vezes = -1\n",
        "print(f'Tabuada do {num}: ')\n",
        "\n",
        "#Loop tabuada de 0 a 10\n",
        "for numero in range(0,10+1):\n",
        "  print(f'''{num} X {numero} = {num*numero}''')"
      ],
      "metadata": {
        "colab": {
          "base_uri": "https://localhost:8080/"
        },
        "id": "mDMY_OLSk8KR",
        "outputId": "c3004510-0fd3-4621-f4f0-7481d7de6382"
      },
      "execution_count": null,
      "outputs": [
        {
          "output_type": "stream",
          "name": "stdout",
          "text": [
            "Digite um número que direi a tabuada do número de 0 a 10: 200\n",
            "Tabuada do 200: \n",
            "200 X 0 = 0\n",
            "200 X 1 = 200\n",
            "200 X 2 = 400\n",
            "200 X 3 = 600\n",
            "200 X 4 = 800\n",
            "200 X 5 = 1000\n",
            "200 X 6 = 1200\n",
            "200 X 7 = 1400\n",
            "200 X 8 = 1600\n",
            "200 X 9 = 1800\n",
            "200 X 10 = 2000\n"
          ]
        }
      ]
    },
    {
      "cell_type": "markdown",
      "source": [
        "Desafio (while)"
      ],
      "metadata": {
        "id": "WRN39rKOniKF"
      }
    },
    {
      "cell_type": "code",
      "source": [
        "print('----;Algoritimo para input e calculo de média aritmética;----')\n",
        "#Declaração (inicialização) de variavel\n",
        "somaNotas = 0\n",
        "qtdNotas = 0\n",
        "p = 'S'\n",
        "#Começo do loop para saber a nota\n",
        "aluno = str(input('Digite o nome do aluno: '))\n",
        "turma = str(input('Digite a turma do aluno'))\n",
        "while p == 'S':\n",
        "  #Para saber o numero da nota e para o calculo da media final\n",
        "  qtdNotas += 1\n",
        "\n",
        "  #Declaração (inicialização) de variavel\n",
        "  nota = float(input(f'Digite a {qtdNotas} nota: '))\n",
        "  somaNotas += nota\n",
        "  p = input('Deseja incerir mais notas: [S/N]').upper()\n",
        "media = (somaNotas)/qtdNotas\n",
        "print(f'O aluno {aluno} da turma {turma} teve uma média final de {media:.2f}')\n",
        "if media < 5:\n",
        "    print(f'O aluno {aluno} foi reprovado')\n",
        "elif  media < 7:\n",
        "    print(f'O aluno {aluno} está de recuperação')\n",
        "elif media <= 10:\n",
        "    print(f'O aluno {aluno} foi aprovado')"
      ],
      "metadata": {
        "colab": {
          "base_uri": "https://localhost:8080/"
        },
        "id": "-67hrBQ9nlv9",
        "outputId": "f293be90-5f8a-49e5-9772-ea3877b8094a"
      },
      "execution_count": null,
      "outputs": [
        {
          "output_type": "stream",
          "name": "stdout",
          "text": [
            "----;Algoritimo para input e calculo de média aritmética;----\n",
            "Digite o nome do aluno: Victor\n",
            "Digite a turma do aluno1°F\n",
            "Digite a 1 nota: 7\n",
            "Deseja incerir mais notas: [S/N]s\n",
            "Digite a 2 nota: 7\n",
            "Deseja incerir mais notas: [S/N]s\n",
            "Digite a 3 nota: 8\n",
            "Deseja incerir mais notas: [S/N]n\n",
            "7.333333333333333\n",
            "O aluno Victor da turma 1°F teve uma média final de 7.33\n",
            "O aluno Victor foi aprovado\n"
          ]
        }
      ]
    },
    {
      "cell_type": "markdown",
      "source": [
        "Desafio 2"
      ],
      "metadata": {
        "id": "k-cVSG3l19zT"
      }
    },
    {
      "cell_type": "code",
      "source": [
        "import random\n",
        "\n",
        "numeroComputador=random.randint(1,10)\n",
        "print(numeroComputador)\n",
        "numeroJogador = 0\n",
        "tentariva = 1\n",
        "\n",
        "while numeroJogador != numeroComputador:\n",
        "  numeroJogador = int(input('Digite um valor: '))\n",
        "  if tentariva == 4:\n",
        "    print('Jogo perdido')\n",
        "    break\n",
        "  if numeroJogador != numeroComputador:\n",
        "    print('Você ERROU!')\n",
        "    tentariva += 1\n",
        "  else:\n",
        "    print('jogo vencido por você')"
      ],
      "metadata": {
        "id": "x-C49S2REU_Q"
      },
      "execution_count": null,
      "outputs": []
    },
    {
      "cell_type": "code",
      "source": [
        "import random as r\n",
        "v_pc=10\n",
        "v_jg=10\n",
        "while v_pc>0 and v_jg>0:\n",
        "  print(f\"Vida jogador: {v_jg}\")\n",
        "  print(f\"Vida pc: {v_pc}\")\n",
        "  print(\"Digite S para soco ou C para cabeçada ou M para mata leão que tem 10% de chance de acertar mas o dano sera de 10\")\n",
        "  escolha=input().lower()\n",
        "  if escolha =='s':\n",
        "   poder = r.randint(1,6)\n",
        "   print(f\"Voce escolheu soco seu poder é de: {poder}\")\n",
        "  elif escolha=='c':\n",
        "    poder=4\n",
        "    print(f\"Vcoê escolheu cabeçada e seu poder é de: {poder}\")\n",
        "  elif escolha=='m':\n",
        "    poder=0\n",
        "    n=r.randint(1,10)\n",
        "    if n==10:\n",
        "      poder=10\n",
        "      print(\"VOCÊ ACERTOU!!!\")\n",
        "    else:\n",
        "      print(\"Você erro\")\n",
        "  else:\n",
        "    print(f\"Escolha errada\")\n",
        "    continue\n",
        "  poder_pc = r.randint(1,6)\n",
        "  print(f\"o poder do computador é: {poder_pc}\")\n",
        "  if escolha =='s':\n",
        "    if poder_pc>poder:\n",
        "      v_jg-=poder_pc\n",
        "      print(f\"O pc ganhou você perdeu e o dano foi de {poder_pc}\")\n",
        "    elif poder == poder_pc:\n",
        "      print(f\"Deu empate ningem ganhou\")\n",
        "    else:\n",
        "      v_pc-=poder\n",
        "      print(f\"Você ganho e seu dano foi de {poder}\")\n",
        "  elif escolha == 'c':\n",
        "    if poder_pc>poder:\n",
        "      v_jg-=poder_pc\n",
        "      print(f\"O pc ganhou você perdeu e o dano foi de {poder_pc}\")\n",
        "    elif poder == poder_pc:\n",
        "      print(f\"Deu empate ningem ganhou\")\n",
        "    else:\n",
        "      v_pc-=poder\n",
        "      v_jg-=1\n",
        "      print(f\"Você ganho e seu dano foi de {poder} \")\n",
        "  elif escolha == 'm':\n",
        "    if poder_pc>poder:\n",
        "      v_jg-=poder_pc\n",
        "      print(f\"O pc ganho e o dano foi de {poder_pc}\")\n",
        "    else:\n",
        "      v_pc -= poder\n",
        "      print(f\"Seu dano foi de {poder}\")\n",
        "if v_pc<=0:\n",
        "  print(\"Você ganhou\")\n",
        "elif v_jg<=0:\n",
        "  print(\"Você perdeu\")\n"
      ],
      "metadata": {
        "colab": {
          "base_uri": "https://localhost:8080/"
        },
        "id": "pijFl0rkGMfl",
        "outputId": "9757c07f-05e1-48d0-b46e-a19be9a81587"
      },
      "execution_count": null,
      "outputs": [
        {
          "output_type": "stream",
          "name": "stdout",
          "text": [
            "Vida jogador: 10\n",
            "Vida pc: 10\n",
            "Digite S para soco ou C para cabeçada ou M para mata leão que tem 10% de chance de acertar mas o dano sera de 10\n",
            "m\n",
            "Você erro\n",
            "o poder do computador é: 2\n",
            "O pc ganho e o dano foi de 2\n",
            "Vida jogador: 8\n",
            "Vida pc: 10\n",
            "Digite S para soco ou C para cabeçada ou M para mata leão que tem 10% de chance de acertar mas o dano sera de 10\n",
            "m\n",
            "VOCÊ ACERTOU!!!\n",
            "o poder do computador é: 6\n",
            "Seu dano foi de 10\n",
            "Você ganhou\n"
          ]
        }
      ]
    },
    {
      "cell_type": "code",
      "source": [
        "#Com ajuda de IA\n",
        "import random as r\n",
        "\n",
        "# Inicializa contadores\n",
        "qtdVitoria = 0\n",
        "qtdDerrota = 0\n",
        "\n",
        "while True:\n",
        "    escolhaPC = r.randint(1, 10)\n",
        "\n",
        "    # Solicita a escolha do jogador\n",
        "    escolhaJG = input('Este é um jogo\\nSe o PC escolher o mesmo valor que você, você ganha!\\nEscolha um número de 1 a 10: ')\n",
        "\n",
        "    # Verifica se a entrada é um número válido e dentro do intervalo\n",
        "    if escolhaJG.isdigit():\n",
        "        escolhaJG = int(escolhaJG)\n",
        "        if 1 <= escolhaJG <= 10:\n",
        "            print(f\"O PC escolheu: {escolhaPC}\")\n",
        "\n",
        "            if escolhaPC == escolhaJG:\n",
        "                print('Você ganhou!')\n",
        "                qtdVitoria += 1\n",
        "            else:\n",
        "                print(f'Você perdeu! O PC escolheu {escolhaPC}.')\n",
        "                qtdDerrota += 1\n",
        "\n",
        "            # Opções para sair, ver placar ou continuar\n",
        "            escolhaSair = input('[S] para sair e ver o placar, [M] para ver o menu ou [C] para continuar: ').strip().upper()\n",
        "\n",
        "            if escolhaSair == 'S':\n",
        "                break  # Sai do loop e vai para a exibição do placar\n",
        "            elif escolhaSair == 'M':\n",
        "                print(f'Menu:\\nVitórias = {qtdVitoria}\\nDerrotas = {qtdDerrota}\\n')\n",
        "        else:\n",
        "            print(\"Por favor, insira um número válido entre 1 e 10.\")\n",
        "    else:\n",
        "        print(\"Por favor, insira um número válido.\")\n",
        "\n",
        "# Exibe o placar final\n",
        "print(f'Placar Final:\\nVitórias = {qtdVitoria}\\nDerrotas = {qtdDerrota}\\n')\n"
      ],
      "metadata": {
        "colab": {
          "base_uri": "https://localhost:8080/"
        },
        "id": "zTpxHlOt1_5q",
        "outputId": "358b469c-767c-4f10-bc41-04a0c8494801"
      },
      "execution_count": null,
      "outputs": [
        {
          "output_type": "stream",
          "name": "stdout",
          "text": [
            "Este é um jogo\n",
            "Se o PC escolher o mesmo valor que você, você ganha!\n",
            "Escolha um número de 1 a 10: s\n",
            "Por favor, insira um número válido.\n",
            "Este é um jogo\n",
            "Se o PC escolher o mesmo valor que você, você ganha!\n",
            "Escolha um número de 1 a 10: 4\n",
            "O PC escolheu: 1\n",
            "Você perdeu! O PC escolheu 1.\n",
            "[S] para sair e ver o placar, [M] para ver o menu ou [C] para continuar: s\n",
            "Placar Final:\n",
            "Vitórias = 0\n",
            "Derrotas = 1\n",
            "\n"
          ]
        }
      ]
    },
    {
      "cell_type": "markdown",
      "source": [
        "Tupla exemplos"
      ],
      "metadata": {
        "id": "HZuynBfMQSth"
      }
    },
    {
      "cell_type": "code",
      "source": [
        "\n",
        "\n",
        "\n",
        "lanche = ('Hamburguer','Suco','Pizza','Pudin')# 0 a 3\n",
        "'''print(lanche [1]) #Traga o valor da posição 1 da Tupla\n",
        "print(lanche [3]) #Traga o valor da posição número 3 da Tupla\n",
        "print(lanche [-2]) #De traz para frente, traga o valor da posição número -2 da Tupla (Desconcidera o zero)\n",
        "print(lanche [1:4])# desconcidera o utimo valor\n",
        "print(lanche [2:]) #Traga todos os valores a partir da posição número 2 da Tupla\n",
        "print(lanche [:2]) #Traga todos os valores do incio até a posição, desconciderando a mesma.\n",
        "print(lanche [-2:]) #De traz para frente, traga todos os valores a partir da posição numero -2\n",
        "\n",
        "print(' ')\n",
        "for comida in lanche:\n",
        "    print(f'Eu vou consumir um {comida}')\n",
        "print('Aff. Comi demais!')\n",
        "\n",
        "print(' ')\n",
        "print(len(lanche)) #O comando len retorna a quantidade de valores existentes na variavel\n",
        "'''\n",
        "'''for cont in range(0,len(lanche)):\n",
        "#    print(cont)\n",
        "    print(cont,lanche[cont])\n",
        "    print(lanche[cont])\n",
        "    print(f'Eu comi {lanche[cont]} na posição {cont}')\n",
        "\n",
        "print(' ')\n",
        "print(lanche)\n",
        "print(sorted(lanche))#Somente escreve em ordem alfabetica e não muda a tupla\n",
        "print(lanche [3])\n",
        "'''\n",
        "a = (2,5,4)\n",
        "b = (5,8,1,2)\n",
        "c = a + b\n",
        "d = b + a\n",
        "print(c)\n",
        "print(d)\n",
        "\n",
        "\n",
        "print(c.count(5))# Quantas vezes o número 5 aparece\n",
        "print(c.index(5))# Primenra possição que aparece o numero 5\n",
        "\n",
        "print(' ')\n",
        "pessoa = ('João',38,'M',95)\n",
        "print(pessoa)\n",
        "\n",
        "del(pessoa)\n",
        "print(pessoa)"
      ],
      "metadata": {
        "colab": {
          "base_uri": "https://localhost:8080/"
        },
        "id": "aXQTNeSZQXgR",
        "outputId": "11360b2b-cd0e-478b-aa6f-9bc1a5e11036"
      },
      "execution_count": null,
      "outputs": [
        {
          "output_type": "stream",
          "name": "stdout",
          "text": [
            "Suco\n",
            "Pudin\n",
            "Pizza\n",
            "('Suco', 'Pizza', 'Pudin')\n",
            "('Pizza', 'Pudin')\n",
            "('Hamburguer', 'Suco')\n",
            "('Pizza', 'Pudin')\n",
            " \n",
            "Eu vou consumir um Hamburguer\n",
            "Eu vou consumir um Suco\n",
            "Eu vou consumir um Pizza\n",
            "Eu vou consumir um Pudin\n",
            "Aff. Comi demais!\n"
          ]
        }
      ]
    },
    {
      "cell_type": "markdown",
      "source": [
        "Exercício 1"
      ],
      "metadata": {
        "id": "EcJ5nHRsXUcM"
      }
    },
    {
      "cell_type": "code",
      "source": [
        "NumerosPorExtenso = (\"zero\",\n",
        "    \"um\", \"dois\", \"três\", \"quatro\", \"cinco\",\n",
        ")\n",
        "while True:\n",
        "  num = int(input('Digite um número inteiro de 0 a 5: '))\n",
        "  if num <= 0 or num <= 5:\n",
        "    break\n",
        "  print(f'Tente um numero valido ')\n",
        "print(f'Você digitou o número {NumerosPorExtenso[num]}')\n",
        "\n"
      ],
      "metadata": {
        "colab": {
          "base_uri": "https://localhost:8080/"
        },
        "id": "O9rNoIqcXYJ8",
        "outputId": "6c7355b0-be43-4603-90d5-4ebcdb9f00e1"
      },
      "execution_count": null,
      "outputs": [
        {
          "output_type": "stream",
          "name": "stdout",
          "text": [
            "Digite um número inteiro de 0 a 5: 2\n",
            "Você digitou o número dois\n"
          ]
        }
      ]
    },
    {
      "cell_type": "markdown",
      "source": [
        "PL-900 nos sabados (quando acabar esté curso power BI e etc)\n",
        "mandar para o pofessor se tem interece"
      ],
      "metadata": {
        "id": "TXq9-R-CHYa4"
      }
    },
    {
      "cell_type": "markdown",
      "source": [
        "Exercício 2"
      ],
      "metadata": {
        "id": "0tMBGcqTkx5l"
      }
    },
    {
      "cell_type": "code",
      "source": [
        "'''Crie Crie uma tupla preenchida com os 16 times da Tabela do\n",
        "Campeonato Paulista Serie A de Futebol, na ordem de colocação. Depois\n",
        "mostre:\n",
        "\n",
        "A) Apenas os 3 primeiros colocados.\n",
        "B) Os últimos 3 colocados da tabela.\n",
        "C) Uma lista com os times em ordem alfabética.\n",
        "D) Em que posição na tabela está o time do São Paulo.\n",
        "'''\n",
        "time = (\n",
        "    \"Palmeiras\", \"Corinthians\", \"São Paulo\", \"Santos\",\n",
        "    \"Red Bull Bragantino\", \"Guarani\", \"Ponte Preta\", \"Ituano\",\n",
        "    \"Mirassol\", \"Ferroviária\", \"Água Santa\", \"São Bernardo\",\n",
        "    \"Inter de Limeira\", \"Novorizontino\", \"Santo André\", \"Botafogo-SP\"\n",
        ")\n",
        "\n",
        "print(f'Lista de times do paulisra de 2024: {time}')\n",
        "print(time[0:5])\n",
        "print(time[-4:])\n",
        "print(sorted(time))\n",
        "print(f'O São Paulo está na {time.index(\"São Paulo\") + 1}ª posição')"
      ],
      "metadata": {
        "colab": {
          "base_uri": "https://localhost:8080/"
        },
        "id": "Ex5wkMbuk21G",
        "outputId": "d0e143d0-5243-4c71-cd30-0d084a28aac1"
      },
      "execution_count": null,
      "outputs": [
        {
          "output_type": "stream",
          "name": "stdout",
          "text": [
            "Lista de times do paulisra de 2024: ('Palmeiras', 'Corinthians', 'São Paulo', 'Santos', 'Red Bull Bragantino', 'Guarani', 'Ponte Preta', 'Ituano', 'Mirassol', 'Ferroviária', 'Água Santa', 'São Bernardo', 'Inter de Limeira', 'Novorizontino', 'Santo André', 'Botafogo-SP')\n",
            "('Palmeiras', 'Corinthians', 'São Paulo', 'Santos', 'Red Bull Bragantino')\n",
            "('Inter de Limeira', 'Novorizontino', 'Santo André', 'Botafogo-SP')\n",
            "['Botafogo-SP', 'Corinthians', 'Ferroviária', 'Guarani', 'Inter de Limeira', 'Ituano', 'Mirassol', 'Novorizontino', 'Palmeiras', 'Ponte Preta', 'Red Bull Bragantino', 'Santo André', 'Santos', 'São Bernardo', 'São Paulo', 'Água Santa']\n",
            "O São Paulo está na 3ª posição\n"
          ]
        }
      ]
    },
    {
      "cell_type": "markdown",
      "source": [
        "Exercício 3"
      ],
      "metadata": {
        "id": "hsXXgMYknnw_"
      }
    },
    {
      "cell_type": "code",
      "source": [
        "'''Crie um programa que vai gerar cinco números aleatórios e colocar em\n",
        "uma tupla.\n",
        "\n",
        "Depois disso, mostre a listagem de números gerados e também indique o\n",
        "menor e o maior valor que estão na tupla.'''\n",
        "\n",
        "from random import randint as r\n",
        "numeros = r(1,1000),r(1,1000),r(1,1000),r(1,1000),r(1,1000)\n",
        "print(f'Os valores sorteados foram {numeros}')\n",
        "print(f'\\nO maior número é {max(numeros)} ')\n",
        "print(f'\\nO menor número é {min(numeros)} ')\n"
      ],
      "metadata": {
        "colab": {
          "base_uri": "https://localhost:8080/"
        },
        "id": "so4H_F9ynp4X",
        "outputId": "a40b7909-1238-4969-afd9-34fdc61d5db0"
      },
      "execution_count": null,
      "outputs": [
        {
          "output_type": "stream",
          "name": "stdout",
          "text": [
            "Os valores sorteados foram (397, 889, 415, 110, 113)\n",
            "\n",
            "O maior número é 889 \n",
            "\n",
            "O menor número é 110 \n"
          ]
        }
      ]
    },
    {
      "cell_type": "markdown",
      "source": [
        "Exercício 04"
      ],
      "metadata": {
        "id": "wEXbvrJCxJy9"
      }
    },
    {
      "cell_type": "code",
      "source": [
        "'''\n",
        "Desenvolva um programa que leia quatro valores pelo teclado e guarde-os em uma tupla. No final mostre:\n",
        "\n",
        "a) Quantas vezes apareceu o valor 9;\n",
        "b) Em que posição foi digitado o primeiro valor 3;\n",
        "c) Quais foram os números pares.\n",
        "'''\n",
        "numero = []\n",
        "numeropar = []\n",
        "numeros = (int(input('Digite um número: ')),int(input('Digite um número: ')),int(input('Digite um número: ')),int(input('Digite um número: ')))\n",
        "\n",
        "print(f'\\nVocê ditou os seguintes valores {numeros}')\n",
        "\n",
        "print(f'O número 9 apreceu {numeros.count(9)} vezes')\n",
        "#----------------------------------------------------------------------------------------------------------------------------------------------------------------------------------\n",
        "if 3 in numeros:\n",
        "  print(f'O valor 3 apreceu na {numeros.index(3)+1} posição')\n",
        "else:\n",
        "  print(f'O valor 3 não apreceu')\n",
        "print('\\nOS valores pares digitados foram:')\n",
        "#----------------------------------------------------------------------------------------------------------------------------------------------------------------------------------\n",
        "for n in numeros:\n",
        "  if n % 2 ==0:\n",
        "    print(n,end=' ')"
      ],
      "metadata": {
        "colab": {
          "base_uri": "https://localhost:8080/"
        },
        "id": "ryHwPUeox92l",
        "outputId": "92fbabda-57c4-4a55-f446-6b50850b96c6"
      },
      "execution_count": null,
      "outputs": [
        {
          "output_type": "stream",
          "name": "stdout",
          "text": [
            "Digite um número: 2\n",
            "Digite um número: 3\n",
            "Digite um número: 4\n",
            "Digite um número: 5\n",
            "\n",
            "Você ditou os seguintes valores (2, 3, 4, 5)\n",
            "O número 9 apreceu 0 vezes\n",
            "O valor 3 apreceu na 2 posição\n",
            "\n",
            "OS valores pares digitados foram:\n",
            "2 4 "
          ]
        }
      ]
    },
    {
      "cell_type": "markdown",
      "source": [
        "Desafio(Tupla)"
      ],
      "metadata": {
        "id": "Rq0XfwFp7QF7"
      }
    },
    {
      "cell_type": "code",
      "source": [
        "'''\n",
        "Crie um programa que tenha uma tupla única com\n",
        "nomes de produtos e seus respectivos preços, na\n",
        "sequencia. No final, mostre uma listagem de preços,\n",
        "organizando os dados em forma tabular.\n",
        "'''\n",
        "listagem = ('Lápis',1.75,\n",
        "            'Borracha',2,\n",
        "            'Caderno',15.90,\n",
        "            'Estojo',25,\n",
        "            \"Tranferidor\",4.20,\n",
        "            'Compasso',9.99,\n",
        "            'Mochila',100.32,\n",
        "            'Caneta',22.30,\n",
        "            'Livro',34.90)\n",
        "print('-'*40)\n",
        "print(f'{\"LISTAGEM DE PREÇO\":^40}')\n",
        "print('-'*40)\n",
        "\n",
        "for pos in range(0,len(listagem)):\n",
        "    if pos % 2 == 0:\n",
        "        print(f'{listagem[pos]:.<30}',end='')\n",
        "    else:\n",
        "        print(f'R$ {listagem[pos]:>7.2f}')\n",
        "print('-'*40)"
      ],
      "metadata": {
        "colab": {
          "base_uri": "https://localhost:8080/"
        },
        "id": "Pq8R4bOr7xKf",
        "outputId": "4f14de3f-9de1-43f4-e545-23ef3f28f7e2"
      },
      "execution_count": null,
      "outputs": [
        {
          "output_type": "stream",
          "name": "stdout",
          "text": [
            "----------------------------------------\n",
            "           LISTAGEM DE PREÇO            \n",
            "----------------------------------------\n",
            "Lápis.........................R$    1.75\n",
            "Borracha......................R$    2.00\n",
            "Caderno.......................R$   15.90\n",
            "Estojo........................R$   25.00\n",
            "Tranferidor...................R$    4.20\n",
            "Compasso......................R$    9.99\n",
            "Mochila.......................R$  100.32\n",
            "Caneta........................R$   22.30\n",
            "Livro.........................R$   34.90\n",
            "----------------------------------------\n"
          ]
        }
      ]
    },
    {
      "cell_type": "code",
      "source": [
        "# Definição da tupla 'listagem' contendo os produtos e seus respectivos preços\n",
        "listagem = ('Lápis', 1.75,\n",
        "            'Borracha', 2,\n",
        "            'Caderno', 15.90,\n",
        "            'Estojo', 25,\n",
        "            \"Transferidor\", 4.20,\n",
        "            'Compasso', 9.99,\n",
        "            'Mochila', 100.32,\n",
        "            'Caneta', 22.30,\n",
        "            'Livro', 34.90)\n",
        "\n",
        "# Imprime uma linha de 40 caracteres '-' para formar uma borda superior\n",
        "print('-' * 40)\n",
        "\n",
        "# Imprime o título centralizado dentro de uma largura de 40 caracteres\n",
        "print(f'{\"LISTAGEM DE PREÇO\":^40}')  # Uso de aspas duplas para evitar conflitos\n",
        "\n",
        "# Imprime outra linha de 40 caracteres '-' para separar o título dos produtos\n",
        "print('-' * 40)\n",
        "\n",
        "# Laço para percorrer todos os itens da tupla 'listagem'\n",
        "for pos in range(0, len(listagem)):\n",
        "    # Se o índice for par, significa que é o nome do produto\n",
        "    if pos % 2 == 0:\n",
        "        # Imprime o nome do produto, alinhado à esquerda e preenchido com pontos\n",
        "        print(f'{listagem[pos]:.<30}', end='')\n",
        "    else:\n",
        "        # Se o índice for ímpar, é o preço do produto\n",
        "        # Imprime o preço, alinhado à direita, com duas casas decimais\n",
        "        print(f'R$ {listagem[pos]:>7.2f}')\n",
        "\n",
        "# Imprime uma linha de 40 caracteres '-' para formar a borda inferior\n",
        "print('-' * 40)\n"
      ],
      "metadata": {
        "colab": {
          "base_uri": "https://localhost:8080/"
        },
        "id": "uHefNZCCMfFd",
        "outputId": "ae86c791-6c51-44e9-f222-49b6b300ce6e"
      },
      "execution_count": null,
      "outputs": [
        {
          "output_type": "stream",
          "name": "stdout",
          "text": [
            "----------------------------------------\n",
            "           LISTAGEM DE PREÇO            \n",
            "----------------------------------------\n",
            "Lápis.........................R$    1.75\n",
            "Borracha......................R$    2.00\n",
            "Caderno.......................R$   15.90\n",
            "Estojo........................R$   25.00\n",
            "Transferidor..................R$    4.20\n",
            "Compasso......................R$    9.99\n",
            "Mochila.......................R$  100.32\n",
            "Caneta........................R$   22.30\n",
            "Livro.........................R$   34.90\n",
            "----------------------------------------\n"
          ]
        }
      ]
    },
    {
      "cell_type": "markdown",
      "source": [
        "\n",
        "\n",
        "---\n",
        "\n",
        "# **Exercício pandal começo da bliblioteca pandal**\n",
        "\n",
        "---\n",
        "\n"
      ],
      "metadata": {
        "id": "DR1Xe9dNQo-s"
      }
    }
  ]
}